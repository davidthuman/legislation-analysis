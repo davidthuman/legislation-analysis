{
  "nbformat": 4,
  "nbformat_minor": 0,
  "metadata": {
    "colab": {
      "name": "stylometry_FedPapers.ipynb",
      "provenance": []
    },
    "kernelspec": {
      "name": "python3",
      "display_name": "Python 3"
    },
    "language_info": {
      "name": "python"
    }
  },
  "cells": [
    {
      "cell_type": "code",
      "execution_count": null,
      "metadata": {
        "id": "UD35k3hiLNZ8"
      },
      "outputs": [],
      "source": [
        "# import libraries\n",
        "import nltk\n",
        "import matplotlib"
      ]
    },
    {
      "cell_type": "markdown",
      "source": [
        "# Preparing the Data for Analysis"
      ],
      "metadata": {
        "id": "VBkcxfPXPi3X"
      }
    },
    {
      "cell_type": "code",
      "source": [
        "# assign each of the papers to a set\n",
        "papers = {\n",
        "    'Madison': [10, 14, 37, 38, 39, 40, 41, 42, 43, 44, 45, 46, 47, 48],\n",
        "    'Hamilton': [1, 6, 7, 8, 9, 11, 12, 13, 15, 16, 17, 21, 22, 23, 24,\n",
        "                 25, 26, 27, 28, 29, 30, 31, 32, 33, 34, 35, 36, 59, 60,\n",
        "                 61, 65, 66, 67, 68, 69, 70, 71, 72, 73, 74, 75, 76, 77,\n",
        "                 78, 79, 80, 81, 82, 83, 84, 85],\n",
        "    'Jay': [2, 3, 4, 5],\n",
        "    'Shared': [18, 19, 20],\n",
        "    'Disputed': [49, 50, 51, 52, 53, 54, 55, 56, 57, 58, 62, 63],\n",
        "    'TestCase': [64]\n",
        "}"
      ],
      "metadata": {
        "id": "ERp1vhQnMeLX"
      },
      "execution_count": null,
      "outputs": []
    },
    {
      "cell_type": "code",
      "source": [
        "# A function that compiles all of the text files associated with a single author into a single string\n",
        "def read_files_into_string(filenames):\n",
        "    strings = []\n",
        "    for filename in filenames:\n",
        "        with open(f'federalist_{filename}.txt') as f:\n",
        "            strings.append(f.read())\n",
        "    return '\\n'.join(strings)"
      ],
      "metadata": {
        "id": "sxtuBDnuOx0k"
      },
      "execution_count": null,
      "outputs": []
    },
    {
      "cell_type": "code",
      "source": [
        "# Make a dictionary out of the authors' corpora\n",
        "federalist_by_author = {}\n",
        "for author, files in papers.items():\n",
        "    federalist_by_author[author] = read_files_into_string(files)"
      ],
      "metadata": {
        "id": "DC_I9Co-PDDE"
      },
      "execution_count": null,
      "outputs": []
    },
    {
      "cell_type": "code",
      "source": [
        "for author in papers:\n",
        "    print(federalist_by_author[author][:100])\n"
      ],
      "metadata": {
        "colab": {
          "base_uri": "https://localhost:8080/"
        },
        "id": "NFU8WDBCPPpj",
        "outputId": "fba5556b-752c-4afb-978c-39f6376bb7f0"
      },
      "execution_count": null,
      "outputs": [
        {
          "output_type": "stream",
          "name": "stdout",
          "text": [
            " 10\n",
            "\n",
            "The Same Subject Continued (The Union as a Safeguard Against Domestic\n",
            "Faction and Insurrection)\n",
            " 1\n",
            "\n",
            "General Introduction\n",
            "\n",
            "For the Independent Journal. Saturday, October 27, 1787\n",
            "\n",
            "\n",
            "HAMILTON\n",
            "\n",
            "To the\n",
            " 2\n",
            "\n",
            "Concerning Dangers from Foreign Force and Influence\n",
            "\n",
            "For the Independent Journal. Wednesday, Oct\n",
            " 18\n",
            "\n",
            "The Same Subject Continued (The Insufficiency of the Present\n",
            "Confederation to Preserve the Unio\n",
            " 49\n",
            "\n",
            "Method of Guarding Against the Encroachments of Any One Department of\n",
            "Government by Appealing t\n",
            " 64\n",
            "\n",
            "The Powers of the Senate\n",
            "\n",
            "From The Independent Journal. Wednesday, March 5, 1788.\n",
            "\n",
            "JAY\n",
            "\n",
            "To the \n"
          ]
        }
      ]
    },
    {
      "cell_type": "markdown",
      "source": [
        "# First Stylometric Test: Mendenhall's Characteristic Curves of Composition"
      ],
      "metadata": {
        "id": "JaSgalvjPn6I"
      }
    },
    {
      "cell_type": "markdown",
      "source": [
        "Literary scholar T. C. Mendenhall once wrote that an author’s stylistic signature could be found by counting how often he or she used words of different lengths.14 For example, if we counted word lengths in several 1,000-word or 5,000 word segments of any novel, and then plotted a graph of the word length distributions, the curves would look pretty much the same no matter what parts of the novel we had picked. Indeed, Mendenhall thought that if one counted enough words selected from various parts of a writer’s entire life’s work (say, 100,000 or so), the author’s “characteristic curve” of word length usage would become so precise that it would be constant over his or her lifetime."
      ],
      "metadata": {
        "id": "Ek4sNFoLQadI"
      }
    },
    {
      "cell_type": "markdown",
      "source": [
        "By today’s standards, counting word lengths seems like a very blunt way of measuring literary style. Mendenhall’s method does not take the actual words in an author’s vocabulary into account, which is obviously problematic. Therefore, we should not treat the characteristic curves as a particularly trustworthy source of stylometric evidence. However, Mendenhall published his theory over one hundred and thirty years ago and made all calculations by hand. It is understandable that he would have chosen to work with a statistic that, however coarse, was at least easy to compile. In honor of the historical value of his early attempt at stylometry, and because the characteristic curve yields interesting visual results that can be implemented quickly, we will use Mendenhall’s method as a first step in our exploration of authorship attribution techniques."
      ],
      "metadata": {
        "id": "CY3E7ghjQSOe"
      }
    },
    {
      "cell_type": "code",
      "source": [
        "# Load nltk\n",
        "import nltk\n",
        "nltk.download('punkt')\n",
        "%matplotlib inline\n",
        "\n",
        "# Compare the disputed papers to those written by everyone,\n",
        "# including the shared ones.\n",
        "authors = (\"Hamilton\", \"Madison\", \"Disputed\", \"Jay\", \"Shared\")\n",
        "\n",
        "# Transform the authors' corpora into lists of word tokens\n",
        "federalist_by_author_tokens = {}\n",
        "federalist_by_author_length_distributions = {}\n",
        "for author in authors:\n",
        "    tokens = nltk.word_tokenize(federalist_by_author[author])\n",
        "\n",
        "    # Filter out punctuation\n",
        "    federalist_by_author_tokens[author] = ([token for token in tokens\n",
        "                                            if any(c.isalpha() for c in token)])\n",
        "\n",
        "    # Get a distribution of token lengths\n",
        "    token_lengths = [len(token) for token in federalist_by_author_tokens[author]]\n",
        "    federalist_by_author_length_distributions[author] = nltk.FreqDist(token_lengths)\n",
        "    federalist_by_author_length_distributions[author].plot(15,title=author)"
      ],
      "metadata": {
        "colab": {
          "base_uri": "https://localhost:8080/",
          "height": 1000
        },
        "id": "8BNOTdnkQRbt",
        "outputId": "e6355628-926a-4ca0-94ab-15f38848d9bd"
      },
      "execution_count": null,
      "outputs": [
        {
          "output_type": "stream",
          "name": "stdout",
          "text": [
            "[nltk_data] Downloading package punkt to /root/nltk_data...\n",
            "[nltk_data]   Unzipping tokenizers/punkt.zip.\n"
          ]
        },
        {
          "output_type": "display_data",
          "data": {
            "text/plain": [
              "<Figure size 432x288 with 1 Axes>"
            ],
            "image/png": "[encoded data removed]"
          },
          "metadata": {
            "needs_background": "light"
          }
        },
        {
          "output_type": "display_data",
          "data": {
            "text/plain": [
              "<Figure size 432x288 with 1 Axes>"
            ],
            "image/png": "[encoded data removed]"
          },
          "metadata": {
            "needs_background": "light"
          }
        },
        {
          "output_type": "display_data",
          "data": {
            "text/plain": [
              "<Figure size 432x288 with 1 Axes>"
            ],
            "image/png": "[encoded data removed]"
          },
          "metadata": {
            "needs_background": "light"
          }
        },
        {
          "output_type": "display_data",
          "data": {
            "text/plain": [
              "<Figure size 432x288 with 1 Axes>"
            ],
            "image/png": "[encoded data removed]"
          },
          "metadata": {
            "needs_background": "light"
          }
        },
        {
          "output_type": "display_data",
          "data": {
            "text/plain": [
              "<Figure size 432x288 with 1 Axes>"
            ],
            "image/png": "[encoded data removed]"
          },
          "metadata": {
            "needs_background": "light"
          }
        }
      ]
    },
    {
      "cell_type": "markdown",
      "source": [
        "# Second Stylometric Test: Kilgariff’s Chi-Squared Method"
      ],
      "metadata": {
        "id": "Mu7Ryay9R4t_"
      }
    },
    {
      "cell_type": "markdown",
      "source": [
        "In a 2001 paper, Adam Kilgarriff15 recommends using the chi-squared statistic to determine authorship. Readers familiar with statistical methods may recall that chi-squared is sometimes used to test whether a set of observations (say, voters’ intentions as stated in a poll) follow a certain probability distribution or pattern. This is not what we are after here. Rather, we will simply use the statistic to measure the “distance” between the vocabularies employed in two sets of texts. The more similar the vocabularies, the likelier it is that the same author wrote the texts in both sets. This assumes that a person’s vocabulary and word usage patterns are relatively constant."
      ],
      "metadata": {
        "id": "ER9AwhrfTo7B"
      }
    },
    {
      "cell_type": "markdown",
      "source": [
        "The smaller the chi-squared value, the more similar the two corpora. Therefore, we will calculate a chi-squared for the difference between the Madison and Disputed corpora, and another for the difference between the Hamilton and Disputed corpora; the smaller value will indicate which of Madison and Hamilton is the most similar to Disputed.\n",
        "\n",
        "Note: No matter which stylometric method we use, the choice of n, the number of words to take into consideration, is something of a dark art. In the literature surveyed by Stamatatos2, scholars have suggested between 100 and 1,000 of the most common words; one project even used every word that appeared in the corpus at least twice. As a guideline, the larger the corpus, the larger the number of words that can be used as features without running the risk of giving undue importance to a word that occurs only a handful of times. In this lesson, we will use a relatively large n for the chi-squared method and a smaller one for the next method. Changing the value of n will certainly change the numeric results a little; however, if a small modification of n causes a change in authorship attribution, this is a sign that the test you are performing is unable to provide meaningful evidence regarding your test case."
      ],
      "metadata": {
        "id": "_cHwEnRvUQnZ"
      }
    },
    {
      "cell_type": "code",
      "source": [
        "# Who are the authors we are analyzing?\n",
        "authors = (\"Hamilton\", \"Madison\")\n",
        "\n",
        "# Lowercase the tokens so that the same word, capitalized or not,\n",
        "# counts as one word\n",
        "for author in authors:\n",
        "    federalist_by_author_tokens[author] = (\n",
        "        [token.lower() for token in federalist_by_author_tokens[author]])\n",
        "federalist_by_author_tokens[\"Disputed\"] = (\n",
        "    [token.lower() for token in federalist_by_author_tokens[\"Disputed\"]])\n",
        "\n",
        "# Calculate chisquared for each of the two candidate authors\n",
        "for author in authors:\n",
        "\n",
        "    # First, build a joint corpus and identify the 500 most frequent words in it\n",
        "    joint_corpus = (federalist_by_author_tokens[author] +\n",
        "                    federalist_by_author_tokens[\"Disputed\"])\n",
        "    joint_freq_dist = nltk.FreqDist(joint_corpus)\n",
        "    most_common = list(joint_freq_dist.most_common(500))\n",
        "\n",
        "    # What proportion of the joint corpus is made up\n",
        "    # of the candidate author's tokens?\n",
        "    author_share = (len(federalist_by_author_tokens[author])\n",
        "                    / len(joint_corpus))\n",
        "\n",
        "    # Now, let's look at the 500 most common words in the candidate\n",
        "    # author's corpus and compare the number of times they can be observed\n",
        "    # to what would be expected if the author's papers\n",
        "    # and the Disputed papers were both random samples from the same distribution.\n",
        "    chisquared = 0\n",
        "    for word,joint_count in most_common:\n",
        "\n",
        "        # How often do we really see this common word?\n",
        "        author_count = federalist_by_author_tokens[author].count(word)\n",
        "        disputed_count = federalist_by_author_tokens[\"Disputed\"].count(word)\n",
        "\n",
        "        # How often should we see it?\n",
        "        expected_author_count = joint_count * author_share\n",
        "        expected_disputed_count = joint_count * (1-author_share)\n",
        "\n",
        "        # Add the word's contribution to the chi-squared statistic\n",
        "        chisquared += ((author_count-expected_author_count) *\n",
        "                       (author_count-expected_author_count) /\n",
        "                       expected_author_count)\n",
        "\n",
        "        chisquared += ((disputed_count-expected_disputed_count) *\n",
        "                       (disputed_count-expected_disputed_count)\n",
        "                       / expected_disputed_count)\n",
        "\n",
        "    print(\"The Chi-squared statistic for candidate\", author, \"is\", chisquared)"
      ],
      "metadata": {
        "colab": {
          "base_uri": "https://localhost:8080/"
        },
        "id": "HYH9Oz72Pd-7",
        "outputId": "ede9e1cc-c711-4837-9599-153a96c5a556"
      },
      "execution_count": null,
      "outputs": [
        {
          "output_type": "stream",
          "name": "stdout",
          "text": [
            "The Chi-squared statistic for candidate Hamilton is 3434.6850314768426\n",
            "The Chi-squared statistic for candidate Madison is 1907.5992915766838\n"
          ]
        }
      ]
    },
    {
      "cell_type": "markdown",
      "source": [
        "# Third Stylometric Test: John Burrows’ Delta Method (Advanced)"
      ],
      "metadata": {
        "id": "Xsy9mnanVLVQ"
      }
    },
    {
      "cell_type": "markdown",
      "source": [
        "Like Kilgariff’s chi-squared, Burrows’ Delta is a measure of the “distance” between a text whose authorship we want to ascertain and some other corpus. Unlike chi-squared, however, the Delta Method is designed to compare an anonymous text (or set of texts) to many different authors’ signatures at the same time. More precisely, Delta measures how the anonymous text and sets of texts written by an arbitrary number of known authors all diverge from the average of all of them put together. Furthermore, the Delta Method gives equal weight to every feature that it measures, thus avoiding the problem of common words overwhelming the results, which was an issue with chi-squared tests. For all of these reasons, John Burrows’ Delta Method is usually a more effective solution to the problem of authorship."
      ],
      "metadata": {
        "id": "6ofxrhAmVuLS"
      }
    },
    {
      "cell_type": "markdown",
      "source": [
        "**Feature Selection**"
      ],
      "metadata": {
        "id": "0-Q5RU7YhIuf"
      }
    },
    {
      "cell_type": "code",
      "source": [
        "# Who are we dealing with this time?\n",
        "authors = (\"Hamilton\", \"Madison\", \"Jay\", \"Disputed\", \"Shared\")\n",
        "\n",
        "# Convert papers to lowercase to count all tokens of the same word together\n",
        "# regardless of case\n",
        "for author in authors:\n",
        "    federalist_by_author_tokens[author] = (\n",
        "        [tok.lower() for tok in federalist_by_author_tokens[author]])\n",
        "\n",
        "# Combine every paper except our test case into a single corpus\n",
        "whole_corpus = []\n",
        "for author in authors:\n",
        "    whole_corpus += federalist_by_author_tokens[author]\n",
        "\n",
        "# Get a frequency distribution\n",
        "whole_corpus_freq_dist = list(nltk.FreqDist(whole_corpus).most_common(30))\n",
        "whole_corpus_freq_dist[ :10 ]"
      ],
      "metadata": {
        "colab": {
          "base_uri": "https://localhost:8080/"
        },
        "id": "--Ln_KPIUf9q",
        "outputId": "11545ed2-26bd-43dd-b112-41aab0f42498"
      },
      "execution_count": null,
      "outputs": [
        {
          "output_type": "execute_result",
          "data": {
            "text/plain": [
              "[('the', 17846),\n",
              " ('of', 11796),\n",
              " ('to', 7012),\n",
              " ('and', 5016),\n",
              " ('in', 4408),\n",
              " ('a', 3967),\n",
              " ('be', 3770),\n",
              " ('that', 2747),\n",
              " ('it', 2520),\n",
              " ('is', 2178)]"
            ]
          },
          "metadata": {},
          "execution_count": 11
        }
      ]
    },
    {
      "cell_type": "markdown",
      "source": [
        "**Calculating features for each subcorpus**"
      ],
      "metadata": {
        "id": "jlCqlJlzhddV"
      }
    },
    {
      "cell_type": "code",
      "source": [
        "# The main data structure\n",
        "features = [word for word,freq in whole_corpus_freq_dist]\n",
        "feature_freqs = {}\n",
        "\n",
        "for author in authors:\n",
        "    # A dictionary for each candidate's features\n",
        "    feature_freqs[author] = {}\n",
        "\n",
        "    # A helper value containing the number of tokens in the author's subcorpus\n",
        "    overall = len(federalist_by_author_tokens[author])\n",
        "\n",
        "    # Calculate each feature's presence in the subcorpus\n",
        "    for feature in features:\n",
        "        presence = federalist_by_author_tokens[author].count(feature)\n",
        "        feature_freqs[author][feature] = presence / overall"
      ],
      "metadata": {
        "id": "ZFSxCA3Rharb"
      },
      "execution_count": null,
      "outputs": []
    },
    {
      "cell_type": "markdown",
      "source": [
        "**Calculating feature averages and standard deviations**"
      ],
      "metadata": {
        "id": "uU6zPzPlhxe6"
      }
    },
    {
      "cell_type": "code",
      "source": [
        "import math\n",
        "\n",
        "# The data structure into which we will be storing the \"corpus standard\" statistics\n",
        "corpus_features = {}\n",
        "\n",
        "# For each feature...\n",
        "for feature in features:\n",
        "    # Create a sub-dictionary that will contain the feature's mean\n",
        "    # and standard deviation\n",
        "    corpus_features[feature] = {}\n",
        "\n",
        "    # Calculate the mean of the frequencies expressed in the subcorpora\n",
        "    feature_average = 0\n",
        "    for author in authors:\n",
        "        feature_average += feature_freqs[author][feature]\n",
        "    feature_average /= len(authors)\n",
        "    corpus_features[feature][\"Mean\"] = feature_average\n",
        "\n",
        "    # Calculate the standard deviation using the basic formula for a sample\n",
        "    feature_stdev = 0\n",
        "    for author in authors:\n",
        "        diff = feature_freqs[author][feature] - corpus_features[feature][\"Mean\"]\n",
        "        feature_stdev += diff*diff\n",
        "    feature_stdev /= (len(authors) - 1)\n",
        "    feature_stdev = math.sqrt(feature_stdev)\n",
        "    corpus_features[feature][\"StdDev\"] = feature_stdev"
      ],
      "metadata": {
        "id": "8MbkPgykho3W"
      },
      "execution_count": null,
      "outputs": []
    },
    {
      "cell_type": "markdown",
      "source": [
        "**Calculating z-scores**"
      ],
      "metadata": {
        "id": "uPPjD5C7iE2Z"
      }
    },
    {
      "cell_type": "code",
      "source": [
        "feature_zscores = {}\n",
        "for author in authors:\n",
        "    feature_zscores[author] = {}\n",
        "    for feature in features:\n",
        "\n",
        "        # Z-score definition = (value - mean) / stddev\n",
        "        # We use intermediate variables to make the code easier to read\n",
        "        feature_val = feature_freqs[author][feature]\n",
        "        feature_mean = corpus_features[feature][\"Mean\"]\n",
        "        feature_stdev = corpus_features[feature][\"StdDev\"]\n",
        "        feature_zscores[author][feature] = ((feature_val-feature_mean) /\n",
        "                                            feature_stdev)"
      ],
      "metadata": {
        "id": "Xf9U7mlch3vz"
      },
      "execution_count": null,
      "outputs": []
    },
    {
      "cell_type": "markdown",
      "source": [
        "**Calculating features and z-scores for our test case**"
      ],
      "metadata": {
        "id": "PC0L4W87iO7I"
      }
    },
    {
      "cell_type": "code",
      "source": [
        "# Tokenize the test case\n",
        "testcase_tokens = nltk.word_tokenize(federalist_by_author[\"TestCase\"])\n",
        "\n",
        "# Filter out punctuation and lowercase the tokens\n",
        "testcase_tokens = [token.lower() for token in testcase_tokens\n",
        "                   if any(c.isalpha() for c in token)]\n",
        "\n",
        "# Calculate the test case's features\n",
        "overall = len(testcase_tokens)\n",
        "testcase_freqs = {}\n",
        "for feature in features:\n",
        "    presence = testcase_tokens.count(feature)\n",
        "    testcase_freqs[feature] = presence / overall\n",
        "\n",
        "# Calculate the test case's feature z-scores\n",
        "testcase_zscores = {}\n",
        "for feature in features:\n",
        "    feature_val = testcase_freqs[feature]\n",
        "    feature_mean = corpus_features[feature][\"Mean\"]\n",
        "    feature_stdev = corpus_features[feature][\"StdDev\"]\n",
        "    testcase_zscores[feature] = (feature_val - feature_mean) / feature_stdev\n",
        "    print(\"Test case z-score for feature\", feature, \"is\", testcase_zscores[feature])"
      ],
      "metadata": {
        "colab": {
          "base_uri": "https://localhost:8080/"
        },
        "id": "gmKwdVShiMFF",
        "outputId": "60773840-a592-4982-da0b-01498d9e6ce9"
      },
      "execution_count": null,
      "outputs": [
        {
          "output_type": "stream",
          "name": "stdout",
          "text": [
            "Test case z-score for feature the is -0.7692828380408238\n",
            "Test case z-score for feature of is -1.8167784558461264\n",
            "Test case z-score for feature to is 1.032705844508835\n",
            "Test case z-score for feature and is 1.0268752924746058\n",
            "Test case z-score for feature in is 0.6085448502160903\n",
            "Test case z-score for feature a is -0.9341289591084886\n",
            "Test case z-score for feature be is 1.0279650702511498\n",
            "Test case z-score for feature that is 1.7937385529385421\n",
            "Test case z-score for feature it is -0.13459361853279056\n",
            "Test case z-score for feature is is -0.9061542167373068\n",
            "Test case z-score for feature which is -2.059010144513673\n",
            "Test case z-score for feature by is 1.1019070073046568\n",
            "Test case z-score for feature as is 4.9191578751913125\n",
            "Test case z-score for feature this is -1.2530109173143964\n",
            "Test case z-score for feature not is 0.7961288069167818\n",
            "Test case z-score for feature would is -0.8319738801201663\n",
            "Test case z-score for feature for is -1.1476926111838774\n",
            "Test case z-score for feature have is 2.3422900648666367\n",
            "Test case z-score for feature will is 1.504662365589896\n",
            "Test case z-score for feature or is -0.2501345229633525\n",
            "Test case z-score for feature from is -0.6289399837959637\n",
            "Test case z-score for feature their is 0.7672330564777179\n",
            "Test case z-score for feature with is -0.17724104821381542\n",
            "Test case z-score for feature are is 7.827980222511478\n",
            "Test case z-score for feature on is -0.046634869341845644\n",
            "Test case z-score for feature an is -0.8211121241183916\n",
            "Test case z-score for feature they is 4.269967908526837\n",
            "Test case z-score for feature states is -1.1664427990875064\n",
            "Test case z-score for feature government is -2.043489634686769\n",
            "Test case z-score for feature may is 0.9954644116572955\n"
          ]
        }
      ]
    },
    {
      "cell_type": "markdown",
      "source": [
        "**Calculating Delta**"
      ],
      "metadata": {
        "id": "5pThBDDaibOq"
      }
    },
    {
      "cell_type": "code",
      "source": [
        "for author in authors:\n",
        "    delta = 0\n",
        "    for feature in features:\n",
        "        delta += math.fabs((testcase_zscores[feature] -\n",
        "                            feature_zscores[author][feature]))\n",
        "    delta /= len(features)\n",
        "    print( \"Delta score for candidate\", author, \"is\", delta )"
      ],
      "metadata": {
        "colab": {
          "base_uri": "https://localhost:8080/"
        },
        "id": "f_CMHFk8iVuj",
        "outputId": "5bf8b1c1-b68c-4539-c499-7cf66d8051d0"
      },
      "execution_count": null,
      "outputs": [
        {
          "output_type": "stream",
          "name": "stdout",
          "text": [
            "Delta score for candidate Hamilton is 1.768470453004334\n",
            "Delta score for candidate Madison is 1.6089724119682816\n",
            "Delta score for candidate Jay is 1.5345768956569326\n",
            "Delta score for candidate Disputed is 1.5371768107570636\n",
            "Delta score for candidate Shared is 1.846113566619675\n"
          ]
        }
      ]
    },
    {
      "cell_type": "code",
      "source": [
        ""
      ],
      "metadata": {
        "id": "0Z8rRIPxigKI"
      },
      "execution_count": null,
      "outputs": []
    }
  ]
}