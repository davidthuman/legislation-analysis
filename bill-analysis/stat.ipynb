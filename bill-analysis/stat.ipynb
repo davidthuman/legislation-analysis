{
 "cells": [
  {
   "cell_type": "code",
   "execution_count": null,
   "metadata": {},
   "outputs": [
    {
     "ename": "",
     "evalue": "",
     "output_type": "error",
     "traceback": [
      "\u001b[1;31mFailed to start the Kernel. \n",
      "View Jupyter <a href='command:jupyter.viewOutput'>log</a> for further details."
     ]
    }
   ],
   "source": [
    "import pandas as pd\n",
    "from bs4 import BeautifulSoup as bs\n",
    "path = './lawsHTML/Text - H.R.133 - 116th Congress (2019-2020)_ Consolidated Appropriations Act, 2021 _ Congress.gov _ Library of Congress.html'"
   ]
  },
  {
   "cell_type": "code",
   "execution_count": 9,
   "metadata": {},
   "outputs": [
    {
     "name": "stdout",
     "output_type": "stream",
     "text": [
      "                 Word  Seen\n",
      "0      [Congressional     1\n",
      "1               Bills     1\n",
      "2               116th     3\n",
      "3           Congress]     1\n",
      "4               [From     1\n",
      "...               ...   ...\n",
      "50141            2051     1\n",
      "50142            slow     2\n",
      "50143      furniture.     1\n",
      "50144            1374     2\n",
      "50145          1374.3     1\n",
      "\n",
      "[50146 rows x 2 columns]\n"
     ]
    }
   ],
   "source": [
    "with open(path) as fp:\n",
    "    soup = bs(fp)\n",
    "\n",
    "bill = soup.find(\"pre\").get_text()\n",
    "billList = bill.split()\n",
    "\n",
    "word = []\n",
    "seen = []\n",
    "for x in billList:\n",
    "    try:\n",
    "        index = word.index(x)\n",
    "        seen[index] = seen[index] + 1\n",
    "    except ValueError:\n",
    "        word.append(x)\n",
    "        seen.append(1)\n",
    "\n",
    "data = {'Word': word, 'Seen': seen}\n",
    "\n",
    "df = pd.DataFrame(data)\n",
    "print(df)\n"
   ]
  }
 ],
 "metadata": {
  "interpreter": {
   "hash": "97cc609b13305c559618ec78a438abc56230b9381f827f22d070313b9a1f3777"
  },
  "kernelspec": {
   "display_name": "Python 3.10.4 64-bit",
   "language": "python",
   "name": "python3"
  },
  "language_info": {
   "codemirror_mode": {
    "name": "ipython",
    "version": 3
   },
   "file_extension": ".py",
   "mimetype": "text/x-python",
   "name": "python",
   "nbconvert_exporter": "python",
   "pygments_lexer": "ipython3",
   "version": "3.10.6"
  },
  "orig_nbformat": 4
 },
 "nbformat": 4,
 "nbformat_minor": 2
}
